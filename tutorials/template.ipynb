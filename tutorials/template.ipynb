{
 "cells": [
  {
   "cell_type": "code",
   "execution_count": null,
   "id": "6d2e0046",
   "metadata": {},
   "outputs": [],
   "source": [
    "# import the 4D data\n",
    "import numpy as np\n",
    "import nxarray\n",
    "import os\n",
    "import matplotlib.pyplot as plt\n",
    "from mpes_tools import show_4d_window\n",
    "from mpes_tools import Gui_3d\n",
    "from mpes_tools import fit_panel\n",
    "from mpes_tools import ARPES_Analyser\n",
    "\n",
    "%gui qt"
   ]
  },
  {
   "cell_type": "code",
   "execution_count": null,
   "id": "d7a3e58c",
   "metadata": {},
   "outputs": [],
   "source": [
    "# Loading panel\n",
    "ARPES_Analyser()"
   ]
  },
  {
   "cell_type": "code",
   "execution_count": null,
   "id": "8e923734",
   "metadata": {},
   "outputs": [],
   "source": [
    "# get data from the NOMAD repository\n",
    "if not os.path.exists(\"Scan49_binned.nxs\"):\n",
    "    ! curl -o Scan49_binned.nxs https://nomad-lab.eu/prod/v1/oasis-b/api/v1/entries/MehgoizphpnxG_t-J0WGgbUZKlTp/raw/Scan49_binned.nxs"
   ]
  },
  {
   "cell_type": "code",
   "execution_count": null,
   "id": "6a046f68",
   "metadata": {},
   "outputs": [],
   "source": [
    "data_array = nxarray.load(\"Scan49_binned.nxs\").data"
   ]
  },
  {
   "cell_type": "code",
   "execution_count": null,
   "id": "5aeb6fe2",
   "metadata": {},
   "outputs": [],
   "source": [
    "# Use the 4D Gui\n",
    "graph_4d = show_4d_window(data_array)\n",
    "graph_4d.show()"
   ]
  },
  {
   "cell_type": "code",
   "execution_count": null,
   "id": "f416bc6e",
   "metadata": {},
   "outputs": [],
   "source": [
    "data = data_array\n",
    "# the energy plot\n",
    "en = (\n",
    "    data.loc[\n",
    "        {\n",
    "            \"energy\": slice(-0.04999999999999982, 0.0),\n",
    "            \"delay\": slice(-0.00399999999999999, 0.014000000000000012),\n",
    "        }\n",
    "    ]\n",
    "    .mean(dim=(\"energy\", \"delay\"))\n",
    "    .T\n",
    ")\n",
    "fig, ax = plt.subplots(1, 1)\n",
    "en.plot(ax=ax, cmap=\"terrain\")\n",
    "plt.show()"
   ]
  },
  {
   "cell_type": "code",
   "execution_count": null,
   "id": "a6a92293",
   "metadata": {},
   "outputs": [],
   "source": [
    "# Use the 3D Gui\n",
    "# select the 3D data\n",
    "data = data_array.loc[\n",
    "    {\n",
    "        \"kx\": slice(0.48, 0.6800000000000002),\n",
    "    }\n",
    "].mean(dim=(\"kx\"))\n",
    "\n",
    "# print(data.dims)\n",
    "graph_window = Gui_3d(data)\n",
    "graph_window.show()"
   ]
  },
  {
   "cell_type": "code",
   "execution_count": null,
   "id": "c14ca2d1",
   "metadata": {},
   "outputs": [],
   "source": [
    "fig, ax = plt.subplots(1, 1)\n",
    "data.loc[{data.dims[0]: slice(-0.97, -0.60), data.dims[1]: slice(0.99, 1.56)}].mean(\n",
    "    dim=(data.dims[0], data.dims[1])\n",
    ").plot(ax=ax)  # Box integration\n",
    "plt.show()"
   ]
  },
  {
   "cell_type": "code",
   "execution_count": null,
   "id": "5c78b3de",
   "metadata": {},
   "outputs": [],
   "source": [
    "# Use the fit panel on the extracted data\n",
    "data_edc = data.sel({data.dims[0]: slice(0.86, 1.08)}).mean(dim=data.dims[0])\n",
    "graph_window = fit_panel(data_edc, 0, 5, \"\")\n",
    "graph_window.show()"
   ]
  },
  {
   "cell_type": "code",
   "execution_count": null,
   "id": "f46368fe",
   "metadata": {},
   "outputs": [],
   "source": []
  },
  {
   "cell_type": "code",
   "execution_count": null,
   "id": "a5a0b003",
   "metadata": {},
   "outputs": [],
   "source": []
  }
 ],
 "metadata": {
  "kernelspec": {
   "display_name": ".venv",
   "language": "python",
   "name": "python3"
  },
  "language_info": {
   "codemirror_mode": {
    "name": "ipython",
    "version": 3
   },
   "file_extension": ".py",
   "mimetype": "text/x-python",
   "name": "python",
   "nbconvert_exporter": "python",
   "pygments_lexer": "ipython3",
   "version": "3.12.0"
  }
 },
 "nbformat": 4,
 "nbformat_minor": 5
}
